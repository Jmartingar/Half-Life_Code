{
 "cells": [
  {
   "cell_type": "code",
   "execution_count": 11,
   "metadata": {},
   "outputs": [],
   "source": [
    "import pandas as pd"
   ]
  },
  {
   "cell_type": "code",
   "execution_count": 12,
   "metadata": {},
   "outputs": [],
   "source": [
    "def canon_or_notcanon(sequence):\n",
    "     alphabet = set(\"ACDEFGHIKLMNPQRSTVWY\")\n",
    "     sequence = sequence.strip()\n",
    "     is_canon = True\n",
    "     for res in set(sequence):\n",
    "         if res not in alphabet:\n",
    "             is_canon = False\n",
    "     return is_canon"
   ]
  },
  {
   "cell_type": "code",
   "execution_count": 13,
   "metadata": {},
   "outputs": [],
   "source": [
    "canon= []\n",
    "notcanon= []"
   ]
  },
  {
   "cell_type": "code",
   "execution_count": 14,
   "metadata": {},
   "outputs": [],
   "source": [
    "df = pd.read_csv('plifepred.csv')"
   ]
  },
  {
   "cell_type": "code",
   "execution_count": 15,
   "metadata": {},
   "outputs": [
    {
     "data": {
      "text/plain": [
       "is_mod\n",
       "False    179\n",
       "True      69\n",
       "Name: count, dtype: int64"
      ]
     },
     "execution_count": 15,
     "metadata": {},
     "output_type": "execute_result"
    }
   ],
   "source": [
    "df['is_mod'].value_counts()"
   ]
  },
  {
   "cell_type": "code",
   "execution_count": 16,
   "metadata": {},
   "outputs": [],
   "source": [
    "df_mod=df[df['is_mod']==True]\n",
    "df_nomod=df[df['is_mod']==False]\n",
    "df_nomod=df_nomod.filter(['sequence', 'half_life_seconds', 'experimental_characteristics', 'hl_category'])"
   ]
  },
  {
   "cell_type": "code",
   "execution_count": 17,
   "metadata": {},
   "outputs": [],
   "source": [
    "df_mod.to_csv('plifepred_mod.csv',index=False)\n",
    "df_nomod.to_csv('plifepred_nomod.csv',index=False)"
   ]
  },
  {
   "cell_type": "code",
   "execution_count": 18,
   "metadata": {},
   "outputs": [],
   "source": [
    "for sequence in df_nomod[\"sequence\"].unique():\n",
    "    if canon_or_notcanon(sequence):\n",
    "        canon.append(sequence)\n",
    "    else:\n",
    "        notcanon.append(sequence)"
   ]
  },
  {
   "cell_type": "code",
   "execution_count": 19,
   "metadata": {},
   "outputs": [],
   "source": [
    "df_canon = df_nomod[df_nomod[\"sequence\"].isin(canon)]\n",
    "df_notcanon = df_nomod[df_nomod[\"sequence\"].isin(notcanon)]"
   ]
  },
  {
   "cell_type": "code",
   "execution_count": 20,
   "metadata": {},
   "outputs": [],
   "source": [
    "df_canon.to_csv('plifepred_nomod_canon.csv',index=False)\n",
    "df_notcanon.to_csv('plifepred_nomod_notcanon.csv',index=False, columns=[\"sequence\",\"half_life_seconds\"])"
   ]
  }
 ],
 "metadata": {
  "kernelspec": {
   "display_name": "ML_Class",
   "language": "python",
   "name": "python3"
  },
  "language_info": {
   "codemirror_mode": {
    "name": "ipython",
    "version": 3
   },
   "file_extension": ".py",
   "mimetype": "text/x-python",
   "name": "python",
   "nbconvert_exporter": "python",
   "pygments_lexer": "ipython3",
   "version": "3.12.5"
  }
 },
 "nbformat": 4,
 "nbformat_minor": 2
}
