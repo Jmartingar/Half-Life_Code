{
 "cells": [
  {
   "cell_type": "code",
   "execution_count": 11,
   "metadata": {},
   "outputs": [],
   "source": [
    "import pandas as pd"
   ]
  },
  {
   "cell_type": "code",
   "execution_count": 12,
   "metadata": {},
   "outputs": [],
   "source": [
    "def mod_false(df):\n",
    "    for i in range(len(df)):\n",
    "        if df.loc[i,'nter'] != 'Free' or df.loc[i,'cter'] != 'Free':\n",
    "            df.loc[i,'is_mod'] = 'True'\n",
    "            df.loc[i,'modifications'] = f\"{df.loc[i, 'nter']}, {df.loc[i, 'cter']}\"\n",
    "        else:\n",
    "            df.loc[i,'is_mod'] = 'False'\n",
    "            df.loc[i,'modifications'] = ''"
   ]
  },
  {
   "cell_type": "code",
   "execution_count": 13,
   "metadata": {},
   "outputs": [],
   "source": [
    "df = pd.read_excel('../raw/pone.0196829.s007.xlsx')\n",
    "df2 = pd.read_excel('../raw/pone.0196829.s008.xlsx')"
   ]
  },
  {
   "cell_type": "code",
   "execution_count": 14,
   "metadata": {},
   "outputs": [],
   "source": [
    "#\\s es para capturar espacios en blanco y regex para expresiones regulares\n",
    "df = df.replace(r'\\s*<br>\\s*', '', regex=True)\n",
    "df2 = df2.replace(r'\\s*<br>\\s*', '', regex=True)"
   ]
  },
  {
   "cell_type": "code",
   "execution_count": 15,
   "metadata": {},
   "outputs": [],
   "source": [
    "df2.rename(columns={'hl in seconds': 'Half-life in seconds'}, inplace=True)"
   ]
  },
  {
   "cell_type": "code",
   "execution_count": 16,
   "metadata": {},
   "outputs": [],
   "source": [
    "df3=pd.DataFrame()\n",
    "df3=pd.concat([df,df2],ignore_index=True)\n",
    "df3.drop_duplicates(keep='first',inplace=True)\n",
    "df3.reset_index(drop=True, inplace=True)\n",
    "mod_false(df3)"
   ]
  },
  {
   "cell_type": "code",
   "execution_count": 17,
   "metadata": {},
   "outputs": [],
   "source": [
    "df3['modifications'] = df3['modifications'].replace([', Free', 'Free,'], '', regex=True)\n",
    "df3=df3.filter(['seq', 'Half-life in seconds', 'modifications', 'is_mod'])\n",
    "df3 = df3.rename(columns={'seq': 'sequence', 'Half-life in seconds': 'half_life_seconds'})"
   ]
  },
  {
   "cell_type": "code",
   "execution_count": 18,
   "metadata": {},
   "outputs": [
    {
     "data": {
      "text/html": [
       "<div>\n",
       "<style scoped>\n",
       "    .dataframe tbody tr th:only-of-type {\n",
       "        vertical-align: middle;\n",
       "    }\n",
       "\n",
       "    .dataframe tbody tr th {\n",
       "        vertical-align: top;\n",
       "    }\n",
       "\n",
       "    .dataframe thead th {\n",
       "        text-align: right;\n",
       "    }\n",
       "</style>\n",
       "<table border=\"1\" class=\"dataframe\">\n",
       "  <thead>\n",
       "    <tr style=\"text-align: right;\">\n",
       "      <th></th>\n",
       "      <th>sequence</th>\n",
       "      <th>half_life_seconds</th>\n",
       "      <th>modifications</th>\n",
       "      <th>is_mod</th>\n",
       "    </tr>\n",
       "  </thead>\n",
       "  <tbody>\n",
       "    <tr>\n",
       "      <th>0</th>\n",
       "      <td>RRWQWR</td>\n",
       "      <td>1800.0</td>\n",
       "      <td></td>\n",
       "      <td>False</td>\n",
       "    </tr>\n",
       "    <tr>\n",
       "      <th>1</th>\n",
       "      <td>RRWQWR</td>\n",
       "      <td>1800.0</td>\n",
       "      <td>Amidation</td>\n",
       "      <td>True</td>\n",
       "    </tr>\n",
       "    <tr>\n",
       "      <th>2</th>\n",
       "      <td>RRWQWR</td>\n",
       "      <td>3600.0</td>\n",
       "      <td>Acetylation</td>\n",
       "      <td>True</td>\n",
       "    </tr>\n",
       "    <tr>\n",
       "      <th>3</th>\n",
       "      <td>RRWQWR</td>\n",
       "      <td>5400.0</td>\n",
       "      <td>Acetylation, Amidation</td>\n",
       "      <td>True</td>\n",
       "    </tr>\n",
       "    <tr>\n",
       "      <th>4</th>\n",
       "      <td>CRRWQWRC</td>\n",
       "      <td>5400.0</td>\n",
       "      <td>Amidation</td>\n",
       "      <td>True</td>\n",
       "    </tr>\n",
       "    <tr>\n",
       "      <th>...</th>\n",
       "      <td>...</td>\n",
       "      <td>...</td>\n",
       "      <td>...</td>\n",
       "      <td>...</td>\n",
       "    </tr>\n",
       "    <tr>\n",
       "      <th>257</th>\n",
       "      <td>YTSLIHSLIEESQNQQEKNEQELLELDKWASLWNWF</td>\n",
       "      <td>13680.0</td>\n",
       "      <td>Acetylation, Amidation</td>\n",
       "      <td>True</td>\n",
       "    </tr>\n",
       "    <tr>\n",
       "      <th>258</th>\n",
       "      <td>KCNTATCATQRLANFLVHSSNNFGPILPPTNVGSNTY</td>\n",
       "      <td>2880.0</td>\n",
       "      <td>Amidation</td>\n",
       "      <td>True</td>\n",
       "    </tr>\n",
       "    <tr>\n",
       "      <th>259</th>\n",
       "      <td>SYSMEHFRWGKPVGKKRRPVKVYP</td>\n",
       "      <td>900.0</td>\n",
       "      <td></td>\n",
       "      <td>False</td>\n",
       "    </tr>\n",
       "    <tr>\n",
       "      <th>260</th>\n",
       "      <td>SYSMEHFRWGKPVGKKRRPVKVYPDGAEDQLAEAFPLEF</td>\n",
       "      <td>900.0</td>\n",
       "      <td></td>\n",
       "      <td>False</td>\n",
       "    </tr>\n",
       "    <tr>\n",
       "      <th>261</th>\n",
       "      <td>SPKMMHKSGCFGRRLDRIGSLSGLGCNVLRKY</td>\n",
       "      <td>94.2</td>\n",
       "      <td></td>\n",
       "      <td>False</td>\n",
       "    </tr>\n",
       "  </tbody>\n",
       "</table>\n",
       "<p>262 rows × 4 columns</p>\n",
       "</div>"
      ],
      "text/plain": [
       "                                    sequence  half_life_seconds  \\\n",
       "0                                     RRWQWR             1800.0   \n",
       "1                                     RRWQWR             1800.0   \n",
       "2                                     RRWQWR             3600.0   \n",
       "3                                     RRWQWR             5400.0   \n",
       "4                                   CRRWQWRC             5400.0   \n",
       "..                                       ...                ...   \n",
       "257     YTSLIHSLIEESQNQQEKNEQELLELDKWASLWNWF            13680.0   \n",
       "258    KCNTATCATQRLANFLVHSSNNFGPILPPTNVGSNTY             2880.0   \n",
       "259                 SYSMEHFRWGKPVGKKRRPVKVYP              900.0   \n",
       "260  SYSMEHFRWGKPVGKKRRPVKVYPDGAEDQLAEAFPLEF              900.0   \n",
       "261         SPKMMHKSGCFGRRLDRIGSLSGLGCNVLRKY               94.2   \n",
       "\n",
       "              modifications is_mod  \n",
       "0                            False  \n",
       "1                 Amidation   True  \n",
       "2               Acetylation   True  \n",
       "3    Acetylation, Amidation   True  \n",
       "4                 Amidation   True  \n",
       "..                      ...    ...  \n",
       "257  Acetylation, Amidation   True  \n",
       "258               Amidation   True  \n",
       "259                          False  \n",
       "260                          False  \n",
       "261                          False  \n",
       "\n",
       "[262 rows x 4 columns]"
      ]
     },
     "execution_count": 18,
     "metadata": {},
     "output_type": "execute_result"
    }
   ],
   "source": [
    "df3"
   ]
  },
  {
   "cell_type": "code",
   "execution_count": 19,
   "metadata": {},
   "outputs": [],
   "source": [
    "#Por si se quieren quitar las modificaciones\n",
    "df_filtered = df3[df3['is_mod'] == 'False']\n",
    "df_filtered = df_filtered.drop(columns=['is_mod', 'modifications'])"
   ]
  },
  {
   "cell_type": "code",
   "execution_count": 20,
   "metadata": {},
   "outputs": [],
   "source": [
    "#df_filtered.to_csv('../datasets/plifepred.csv', index=False)\n",
    "df3.to_csv('../Plifepred/plifepred.csv', index=False)"
   ]
  }
 ],
 "metadata": {
  "kernelspec": {
   "display_name": "ML_Class",
   "language": "python",
   "name": "python3"
  },
  "language_info": {
   "codemirror_mode": {
    "name": "ipython",
    "version": 3
   },
   "file_extension": ".py",
   "mimetype": "text/x-python",
   "name": "python",
   "nbconvert_exporter": "python",
   "pygments_lexer": "ipython3",
   "version": "3.12.4"
  }
 },
 "nbformat": 4,
 "nbformat_minor": 2
}
