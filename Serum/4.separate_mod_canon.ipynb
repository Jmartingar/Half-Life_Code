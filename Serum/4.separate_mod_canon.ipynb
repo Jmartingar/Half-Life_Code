{
 "cells": [
  {
   "cell_type": "code",
   "execution_count": 46,
   "metadata": {},
   "outputs": [],
   "source": [
    "import pandas as pd"
   ]
  },
  {
   "cell_type": "code",
   "execution_count": 47,
   "metadata": {},
   "outputs": [],
   "source": [
    "def canon_or_notcanon(sequence):\n",
    "     alphabet = set(\"ACDEFGHIKLMNPQRSTVWY\")\n",
    "     sequence = sequence.strip()\n",
    "     is_canon = True\n",
    "     for res in set(sequence):\n",
    "         if res not in alphabet:\n",
    "             is_canon = False\n",
    "     return is_canon"
   ]
  },
  {
   "cell_type": "code",
   "execution_count": 48,
   "metadata": {},
   "outputs": [],
   "source": [
    "canon= []\n",
    "notcanon= []"
   ]
  },
  {
   "cell_type": "code",
   "execution_count": 49,
   "metadata": {},
   "outputs": [],
   "source": [
    "df = pd.read_csv('serum.csv')"
   ]
  },
  {
   "cell_type": "code",
   "execution_count": 50,
   "metadata": {},
   "outputs": [
    {
     "data": {
      "text/plain": [
       "is_mod\n",
       "True     178\n",
       "False     83\n",
       "Name: count, dtype: int64"
      ]
     },
     "execution_count": 50,
     "metadata": {},
     "output_type": "execute_result"
    }
   ],
   "source": [
    "df['is_mod'].value_counts()"
   ]
  },
  {
   "cell_type": "code",
   "execution_count": 51,
   "metadata": {},
   "outputs": [],
   "source": [
    "df_mod=df[df['is_mod']==True]\n",
    "df_nomod=df[df['is_mod']==False]\n",
    "df_nomod=df_nomod.filter(['sequence', 'half_life_seconds', 'experimental_characteristics', 'hl_category'])"
   ]
  },
  {
   "cell_type": "code",
   "execution_count": 52,
   "metadata": {},
   "outputs": [],
   "source": [
    "df_mod.to_csv('serum_mod.csv',index=False)\n",
    "df_nomod.to_csv('serum_nomod.csv',index=False)"
   ]
  },
  {
   "cell_type": "code",
   "execution_count": 53,
   "metadata": {},
   "outputs": [],
   "source": [
    "for sequence in df_nomod[\"sequence\"].unique():\n",
    "    if canon_or_notcanon(sequence):\n",
    "        canon.append(sequence)\n",
    "    else:\n",
    "        notcanon.append(sequence)"
   ]
  },
  {
   "cell_type": "code",
   "execution_count": 54,
   "metadata": {},
   "outputs": [],
   "source": [
    "df_canon = df_nomod[df_nomod[\"sequence\"].isin(canon)]\n",
    "df_notcanon = df_nomod[df_nomod[\"sequence\"].isin(notcanon)]"
   ]
  },
  {
   "cell_type": "code",
   "execution_count": 55,
   "metadata": {},
   "outputs": [
    {
     "data": {
      "text/html": [
       "<div>\n",
       "<style scoped>\n",
       "    .dataframe tbody tr th:only-of-type {\n",
       "        vertical-align: middle;\n",
       "    }\n",
       "\n",
       "    .dataframe tbody tr th {\n",
       "        vertical-align: top;\n",
       "    }\n",
       "\n",
       "    .dataframe thead th {\n",
       "        text-align: right;\n",
       "    }\n",
       "</style>\n",
       "<table border=\"1\" class=\"dataframe\">\n",
       "  <thead>\n",
       "    <tr style=\"text-align: right;\">\n",
       "      <th></th>\n",
       "      <th>sequence</th>\n",
       "      <th>half_life_seconds</th>\n",
       "      <th>experimental_characteristics</th>\n",
       "      <th>hl_category</th>\n",
       "    </tr>\n",
       "  </thead>\n",
       "  <tbody>\n",
       "    <tr>\n",
       "      <th>8</th>\n",
       "      <td>CENTISGCSRADCLLYHRKQGCQKTCGLC</td>\n",
       "      <td>10800.0</td>\n",
       "      <td>trypsin</td>\n",
       "      <td>Medium</td>\n",
       "    </tr>\n",
       "    <tr>\n",
       "      <th>9</th>\n",
       "      <td>CENTISGCSRADCLLTHRKYGCQKTCGLC</td>\n",
       "      <td>57600.0</td>\n",
       "      <td>trypsin</td>\n",
       "      <td>High</td>\n",
       "    </tr>\n",
       "    <tr>\n",
       "      <th>10</th>\n",
       "      <td>CENTISGCSRADCLLTHRKQGCQKTCGYC</td>\n",
       "      <td>7200.0</td>\n",
       "      <td>trypsin</td>\n",
       "      <td>Low</td>\n",
       "    </tr>\n",
       "    <tr>\n",
       "      <th>18</th>\n",
       "      <td>MDYKDDDDKGSGSTLDDMEEMDGLSDT</td>\n",
       "      <td>21600.0</td>\n",
       "      <td>human serum</td>\n",
       "      <td>High</td>\n",
       "    </tr>\n",
       "    <tr>\n",
       "      <th>26</th>\n",
       "      <td>CGMKRTRGC</td>\n",
       "      <td>14400.0</td>\n",
       "      <td>human serum</td>\n",
       "      <td>Medium</td>\n",
       "    </tr>\n",
       "    <tr>\n",
       "      <th>38</th>\n",
       "      <td>VSADPSRVNAYKSADSRVNST</td>\n",
       "      <td>480.0</td>\n",
       "      <td>human serum</td>\n",
       "      <td>Low</td>\n",
       "    </tr>\n",
       "    <tr>\n",
       "      <th>42</th>\n",
       "      <td>LAEAKGVSAKTALP</td>\n",
       "      <td>1380.0</td>\n",
       "      <td>trypsin</td>\n",
       "      <td>Low</td>\n",
       "    </tr>\n",
       "    <tr>\n",
       "      <th>43</th>\n",
       "      <td>SCKNTDSRCKARQLELNERTCRCDKPRR</td>\n",
       "      <td>300.0</td>\n",
       "      <td>human plasma</td>\n",
       "      <td>Low</td>\n",
       "    </tr>\n",
       "    <tr>\n",
       "      <th>44</th>\n",
       "      <td>CQGTSNKLTQLGTFEDHFLSLQRMFNNC</td>\n",
       "      <td>5340.0</td>\n",
       "      <td>human serum</td>\n",
       "      <td>Low</td>\n",
       "    </tr>\n",
       "    <tr>\n",
       "      <th>53</th>\n",
       "      <td>TRSSRAGLQFPVGRVHRLLRK</td>\n",
       "      <td>300.0</td>\n",
       "      <td>human serum</td>\n",
       "      <td>Low</td>\n",
       "    </tr>\n",
       "    <tr>\n",
       "      <th>54</th>\n",
       "      <td>RWCVYARVRGVRYRRCW</td>\n",
       "      <td>14400.0</td>\n",
       "      <td>human serum</td>\n",
       "      <td>Medium</td>\n",
       "    </tr>\n",
       "    <tr>\n",
       "      <th>55</th>\n",
       "      <td>RWCVYACVRGVCYRRCW</td>\n",
       "      <td>86400.0</td>\n",
       "      <td>human serum</td>\n",
       "      <td>High</td>\n",
       "    </tr>\n",
       "    <tr>\n",
       "      <th>70</th>\n",
       "      <td>SLRRSSCFGGRMDRIGAQSGLGCNSFRY</td>\n",
       "      <td>156.0</td>\n",
       "      <td>human serum</td>\n",
       "      <td>Low</td>\n",
       "    </tr>\n",
       "    <tr>\n",
       "      <th>72</th>\n",
       "      <td>MCMPCFTTDHQMARKCDDCCGGKGRGKCYGPQCLCR</td>\n",
       "      <td>50400.0</td>\n",
       "      <td>mouse</td>\n",
       "      <td>High</td>\n",
       "    </tr>\n",
       "    <tr>\n",
       "      <th>73</th>\n",
       "      <td>KRFKKFFKKVKKSVKKRLKKIFKKPMVIGVTIPF</td>\n",
       "      <td>4260.0</td>\n",
       "      <td>human serum</td>\n",
       "      <td>Low</td>\n",
       "    </tr>\n",
       "    <tr>\n",
       "      <th>74</th>\n",
       "      <td>KRFKKFFKKVKKSV</td>\n",
       "      <td>1260.0</td>\n",
       "      <td>human serum</td>\n",
       "      <td>Low</td>\n",
       "    </tr>\n",
       "    <tr>\n",
       "      <th>75</th>\n",
       "      <td>KKRLKKIFKKPMVIGVTIPF</td>\n",
       "      <td>46200.0</td>\n",
       "      <td>human serum</td>\n",
       "      <td>High</td>\n",
       "    </tr>\n",
       "  </tbody>\n",
       "</table>\n",
       "</div>"
      ],
      "text/plain": [
       "                                sequence  half_life_seconds  \\\n",
       "8          CENTISGCSRADCLLYHRKQGCQKTCGLC            10800.0   \n",
       "9          CENTISGCSRADCLLTHRKYGCQKTCGLC            57600.0   \n",
       "10         CENTISGCSRADCLLTHRKQGCQKTCGYC             7200.0   \n",
       "18           MDYKDDDDKGSGSTLDDMEEMDGLSDT            21600.0   \n",
       "26                             CGMKRTRGC            14400.0   \n",
       "38                 VSADPSRVNAYKSADSRVNST              480.0   \n",
       "42                        LAEAKGVSAKTALP             1380.0   \n",
       "43          SCKNTDSRCKARQLELNERTCRCDKPRR              300.0   \n",
       "44          CQGTSNKLTQLGTFEDHFLSLQRMFNNC             5340.0   \n",
       "53                 TRSSRAGLQFPVGRVHRLLRK              300.0   \n",
       "54                     RWCVYARVRGVRYRRCW            14400.0   \n",
       "55                     RWCVYACVRGVCYRRCW            86400.0   \n",
       "70          SLRRSSCFGGRMDRIGAQSGLGCNSFRY              156.0   \n",
       "72  MCMPCFTTDHQMARKCDDCCGGKGRGKCYGPQCLCR            50400.0   \n",
       "73    KRFKKFFKKVKKSVKKRLKKIFKKPMVIGVTIPF             4260.0   \n",
       "74                        KRFKKFFKKVKKSV             1260.0   \n",
       "75                  KKRLKKIFKKPMVIGVTIPF            46200.0   \n",
       "\n",
       "   experimental_characteristics hl_category  \n",
       "8                       trypsin      Medium  \n",
       "9                       trypsin        High  \n",
       "10                      trypsin         Low  \n",
       "18                  human serum        High  \n",
       "26                  human serum      Medium  \n",
       "38                  human serum         Low  \n",
       "42                      trypsin         Low  \n",
       "43                 human plasma         Low  \n",
       "44                  human serum         Low  \n",
       "53                  human serum         Low  \n",
       "54                  human serum      Medium  \n",
       "55                  human serum        High  \n",
       "70                  human serum         Low  \n",
       "72                        mouse        High  \n",
       "73                  human serum         Low  \n",
       "74                  human serum         Low  \n",
       "75                  human serum        High  "
      ]
     },
     "execution_count": 55,
     "metadata": {},
     "output_type": "execute_result"
    }
   ],
   "source": [
    "df_canon"
   ]
  },
  {
   "cell_type": "code",
   "execution_count": 56,
   "metadata": {},
   "outputs": [],
   "source": [
    "df_canon.to_csv('serum_nomod_canon.csv',index=False)\n",
    "df_notcanon.to_csv('serum_nomod_notcanon.csv',index=False, columns=[\"sequence\",\"half_life_seconds\"])"
   ]
  }
 ],
 "metadata": {
  "kernelspec": {
   "display_name": "ML_Class",
   "language": "python",
   "name": "python3"
  },
  "language_info": {
   "codemirror_mode": {
    "name": "ipython",
    "version": 3
   },
   "file_extension": ".py",
   "mimetype": "text/x-python",
   "name": "python",
   "nbconvert_exporter": "python",
   "pygments_lexer": "ipython3",
   "version": "3.12.5"
  }
 },
 "nbformat": 4,
 "nbformat_minor": 2
}
