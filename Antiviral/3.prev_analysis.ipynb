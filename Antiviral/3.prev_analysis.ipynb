{
 "cells": [
  {
   "cell_type": "code",
   "execution_count": 155,
   "metadata": {},
   "outputs": [],
   "source": [
    "import pandas as pd\n",
    "import matplotlib.pyplot as plt\n",
    "import seaborn as sns"
   ]
  },
  {
   "cell_type": "code",
   "execution_count": 156,
   "metadata": {},
   "outputs": [],
   "source": [
    "df_or = pd.read_csv('antiviral_original.csv')\n",
    "df_o=pd.read_csv('antiviral_object.csv')\n",
    "df_f = pd.read_csv('antiviral.csv')"
   ]
  },
  {
   "cell_type": "code",
   "execution_count": 157,
   "metadata": {},
   "outputs": [
    {
     "data": {
      "text/plain": [
       "((5958, 11), (1876, 5), (3486, 5))"
      ]
     },
     "execution_count": 157,
     "metadata": {},
     "output_type": "execute_result"
    }
   ],
   "source": [
    "df_or.shape, df_o.shape, df_f.shape"
   ]
  },
  {
   "cell_type": "code",
   "execution_count": 158,
   "metadata": {},
   "outputs": [
    {
     "data": {
      "text/html": [
       "<div>\n",
       "<style scoped>\n",
       "    .dataframe tbody tr th:only-of-type {\n",
       "        vertical-align: middle;\n",
       "    }\n",
       "\n",
       "    .dataframe tbody tr th {\n",
       "        vertical-align: top;\n",
       "    }\n",
       "\n",
       "    .dataframe thead th {\n",
       "        text-align: right;\n",
       "    }\n",
       "</style>\n",
       "<table border=\"1\" class=\"dataframe\">\n",
       "  <thead>\n",
       "    <tr style=\"text-align: right;\">\n",
       "      <th></th>\n",
       "      <th>Sequence</th>\n",
       "      <th>Source</th>\n",
       "      <th>Target_Organism</th>\n",
       "      <th>Assay</th>\n",
       "      <th>Linear_Cyclic</th>\n",
       "      <th>N-terminal_Modification</th>\n",
       "      <th>C-terminal_Modification</th>\n",
       "      <th>Other_Modification</th>\n",
       "      <th>Binding_Target</th>\n",
       "      <th>experimental_characteristics</th>\n",
       "      <th>Half_Life</th>\n",
       "    </tr>\n",
       "  </thead>\n",
       "  <tbody>\n",
       "    <tr>\n",
       "      <th>count</th>\n",
       "      <td>5958</td>\n",
       "      <td>5955</td>\n",
       "      <td>5958</td>\n",
       "      <td>5259</td>\n",
       "      <td>5958</td>\n",
       "      <td>5958</td>\n",
       "      <td>5958</td>\n",
       "      <td>912</td>\n",
       "      <td>5955</td>\n",
       "      <td>5958</td>\n",
       "      <td>5838</td>\n",
       "    </tr>\n",
       "    <tr>\n",
       "      <th>unique</th>\n",
       "      <td>1852</td>\n",
       "      <td>185</td>\n",
       "      <td>105</td>\n",
       "      <td>123</td>\n",
       "      <td>4</td>\n",
       "      <td>20</td>\n",
       "      <td>33</td>\n",
       "      <td>164</td>\n",
       "      <td>62</td>\n",
       "      <td>3</td>\n",
       "      <td>22</td>\n",
       "    </tr>\n",
       "    <tr>\n",
       "      <th>top</th>\n",
       "      <td>SLDQINVTFLDLEYEMKKLEEAIKKLEESYIDLKELGSGSG</td>\n",
       "      <td>Synthetic construct</td>\n",
       "      <td>HIV</td>\n",
       "      <td>ELISA</td>\n",
       "      <td>Linear</td>\n",
       "      <td>Free</td>\n",
       "      <td>Free</td>\n",
       "      <td>The 'X' at position 4,8,11,15 indicates S-pent...</td>\n",
       "      <td>Not found</td>\n",
       "      <td>E_coli</td>\n",
       "      <td>&gt;10 hour</td>\n",
       "    </tr>\n",
       "    <tr>\n",
       "      <th>freq</th>\n",
       "      <td>27</td>\n",
       "      <td>2460</td>\n",
       "      <td>2148</td>\n",
       "      <td>393</td>\n",
       "      <td>5466</td>\n",
       "      <td>4521</td>\n",
       "      <td>4011</td>\n",
       "      <td>48</td>\n",
       "      <td>1755</td>\n",
       "      <td>1986</td>\n",
       "      <td>1149</td>\n",
       "    </tr>\n",
       "  </tbody>\n",
       "</table>\n",
       "</div>"
      ],
      "text/plain": [
       "                                         Sequence               Source  \\\n",
       "count                                        5958                 5955   \n",
       "unique                                       1852                  185   \n",
       "top     SLDQINVTFLDLEYEMKKLEEAIKKLEESYIDLKELGSGSG  Synthetic construct   \n",
       "freq                                           27                 2460   \n",
       "\n",
       "       Target_Organism  Assay Linear_Cyclic N-terminal_Modification  \\\n",
       "count             5958   5259          5958                    5958   \n",
       "unique             105    123             4                      20   \n",
       "top                HIV  ELISA        Linear                    Free   \n",
       "freq              2148    393          5466                    4521   \n",
       "\n",
       "       C-terminal_Modification  \\\n",
       "count                     5958   \n",
       "unique                      33   \n",
       "top                       Free   \n",
       "freq                      4011   \n",
       "\n",
       "                                       Other_Modification Binding_Target  \\\n",
       "count                                                 912           5955   \n",
       "unique                                                164             62   \n",
       "top     The 'X' at position 4,8,11,15 indicates S-pent...      Not found   \n",
       "freq                                                   48           1755   \n",
       "\n",
       "       experimental_characteristics Half_Life  \n",
       "count                          5958      5838  \n",
       "unique                            3        22  \n",
       "top                          E_coli  >10 hour  \n",
       "freq                           1986      1149  "
      ]
     },
     "execution_count": 158,
     "metadata": {},
     "output_type": "execute_result"
    }
   ],
   "source": [
    "df_or.describe()"
   ]
  },
  {
   "cell_type": "code",
   "execution_count": 159,
   "metadata": {},
   "outputs": [
    {
     "data": {
      "text/html": [
       "<div>\n",
       "<style scoped>\n",
       "    .dataframe tbody tr th:only-of-type {\n",
       "        vertical-align: middle;\n",
       "    }\n",
       "\n",
       "    .dataframe tbody tr th {\n",
       "        vertical-align: top;\n",
       "    }\n",
       "\n",
       "    .dataframe thead th {\n",
       "        text-align: right;\n",
       "    }\n",
       "</style>\n",
       "<table border=\"1\" class=\"dataframe\">\n",
       "  <thead>\n",
       "    <tr style=\"text-align: right;\">\n",
       "      <th></th>\n",
       "      <th>sequence</th>\n",
       "      <th>half_life</th>\n",
       "      <th>is_mod</th>\n",
       "      <th>modifications</th>\n",
       "      <th>experimental_characteristics</th>\n",
       "    </tr>\n",
       "  </thead>\n",
       "  <tbody>\n",
       "    <tr>\n",
       "      <th>count</th>\n",
       "      <td>1876</td>\n",
       "      <td>1876</td>\n",
       "      <td>1876</td>\n",
       "      <td>604</td>\n",
       "      <td>1876</td>\n",
       "    </tr>\n",
       "    <tr>\n",
       "      <th>unique</th>\n",
       "      <td>1100</td>\n",
       "      <td>2</td>\n",
       "      <td>2</td>\n",
       "      <td>26</td>\n",
       "      <td>3</td>\n",
       "    </tr>\n",
       "    <tr>\n",
       "      <th>top</th>\n",
       "      <td>AAAMSQVTN</td>\n",
       "      <td>&gt;10 hour</td>\n",
       "      <td>False</td>\n",
       "      <td>Acetylation, Amidation</td>\n",
       "      <td>E_coli</td>\n",
       "    </tr>\n",
       "    <tr>\n",
       "      <th>freq</th>\n",
       "      <td>2</td>\n",
       "      <td>1062</td>\n",
       "      <td>1272</td>\n",
       "      <td>238</td>\n",
       "      <td>1062</td>\n",
       "    </tr>\n",
       "  </tbody>\n",
       "</table>\n",
       "</div>"
      ],
      "text/plain": [
       "         sequence half_life is_mod           modifications  \\\n",
       "count        1876      1876   1876                     604   \n",
       "unique       1100         2      2                      26   \n",
       "top     AAAMSQVTN  >10 hour  False  Acetylation, Amidation   \n",
       "freq            2      1062   1272                     238   \n",
       "\n",
       "       experimental_characteristics  \n",
       "count                          1876  \n",
       "unique                            3  \n",
       "top                          E_coli  \n",
       "freq                           1062  "
      ]
     },
     "execution_count": 159,
     "metadata": {},
     "output_type": "execute_result"
    }
   ],
   "source": [
    "df_o.describe()"
   ]
  },
  {
   "cell_type": "code",
   "execution_count": 160,
   "metadata": {},
   "outputs": [
    {
     "data": {
      "text/html": [
       "<div>\n",
       "<style scoped>\n",
       "    .dataframe tbody tr th:only-of-type {\n",
       "        vertical-align: middle;\n",
       "    }\n",
       "\n",
       "    .dataframe tbody tr th {\n",
       "        vertical-align: top;\n",
       "    }\n",
       "\n",
       "    .dataframe thead th {\n",
       "        text-align: right;\n",
       "    }\n",
       "</style>\n",
       "<table border=\"1\" class=\"dataframe\">\n",
       "  <thead>\n",
       "    <tr style=\"text-align: right;\">\n",
       "      <th></th>\n",
       "      <th>half_life_seconds</th>\n",
       "    </tr>\n",
       "  </thead>\n",
       "  <tbody>\n",
       "    <tr>\n",
       "      <th>count</th>\n",
       "      <td>3486.000000</td>\n",
       "    </tr>\n",
       "    <tr>\n",
       "      <th>mean</th>\n",
       "      <td>19861.222031</td>\n",
       "    </tr>\n",
       "    <tr>\n",
       "      <th>std</th>\n",
       "      <td>52374.499897</td>\n",
       "    </tr>\n",
       "    <tr>\n",
       "      <th>min</th>\n",
       "      <td>120.000000</td>\n",
       "    </tr>\n",
       "    <tr>\n",
       "      <th>25%</th>\n",
       "      <td>180.000000</td>\n",
       "    </tr>\n",
       "    <tr>\n",
       "      <th>50%</th>\n",
       "      <td>2880.000000</td>\n",
       "    </tr>\n",
       "    <tr>\n",
       "      <th>75%</th>\n",
       "      <td>10080.000000</td>\n",
       "    </tr>\n",
       "    <tr>\n",
       "      <th>max</th>\n",
       "      <td>360000.000000</td>\n",
       "    </tr>\n",
       "  </tbody>\n",
       "</table>\n",
       "</div>"
      ],
      "text/plain": [
       "       half_life_seconds\n",
       "count        3486.000000\n",
       "mean        19861.222031\n",
       "std         52374.499897\n",
       "min           120.000000\n",
       "25%           180.000000\n",
       "50%          2880.000000\n",
       "75%         10080.000000\n",
       "max        360000.000000"
      ]
     },
     "execution_count": 160,
     "metadata": {},
     "output_type": "execute_result"
    }
   ],
   "source": [
    "df_f.describe()"
   ]
  },
  {
   "cell_type": "code",
   "execution_count": 161,
   "metadata": {},
   "outputs": [
    {
     "data": {
      "image/png": "[encoded data removed]",
      "text/plain": [
       "<Figure size 640x480 with 1 Axes>"
      ]
     },
     "metadata": {},
     "output_type": "display_data"
    }
   ],
   "source": [
    "sns.histplot(df_f['half_life_seconds'], bins=10, color='skyblue', kde=False)\n",
    "\n",
    "plt.xlabel('Vida media (segundos)')\n",
    "plt.ylabel('Frecuencia')\n",
    "plt.title('Histograma de Vida Media (antiviral)')\n",
    "plt.show()"
   ]
  },
  {
   "cell_type": "code",
   "execution_count": 162,
   "metadata": {},
   "outputs": [
    {
     "data": {
      "image/png": "[encoded data removed]",
      "text/plain": [
       "<Figure size 1000x600 with 1 Axes>"
      ]
     },
     "metadata": {},
     "output_type": "display_data"
    }
   ],
   "source": [
    "plt.figure(figsize=(10, 6))\n",
    "sns.boxplot(x='half_life_seconds', data=df_f)\n",
    "plt.title('Boxplot de Vida Media (antiviral)')\n",
    "plt.xlabel('Vida media (segundos)')\n",
    "plt.show()"
   ]
  },
  {
   "cell_type": "code",
   "execution_count": 163,
   "metadata": {},
   "outputs": [
    {
     "data": {
      "text/plain": [
       "is_mod\n",
       "False    1272\n",
       "True      604\n",
       "Name: count, dtype: int64"
      ]
     },
     "execution_count": 163,
     "metadata": {},
     "output_type": "execute_result"
    }
   ],
   "source": [
    "df_o['is_mod'].value_counts()"
   ]
  },
  {
   "cell_type": "code",
   "execution_count": 164,
   "metadata": {},
   "outputs": [
    {
     "data": {
      "text/plain": [
       "is_mod\n",
       "False    2347\n",
       "True     1139\n",
       "Name: count, dtype: int64"
      ]
     },
     "execution_count": 164,
     "metadata": {},
     "output_type": "execute_result"
    }
   ],
   "source": [
    "df_f['is_mod'].value_counts()"
   ]
  },
  {
   "cell_type": "code",
   "execution_count": 165,
   "metadata": {},
   "outputs": [],
   "source": [
    "from sklearn.ensemble import IsolationForest"
   ]
  },
  {
   "cell_type": "code",
   "execution_count": 166,
   "metadata": {},
   "outputs": [
    {
     "name": "stdout",
     "output_type": "stream",
     "text": [
      "       half_life_seconds\n",
      "count        2919.000000\n",
      "mean         3814.080164\n",
      "std          5554.667591\n",
      "min           120.000000\n",
      "25%           120.000000\n",
      "50%           600.000000\n",
      "75%          4680.000000\n",
      "max         19800.000000\n"
     ]
    }
   ],
   "source": [
    "iso_forest = IsolationForest(contamination=0.20, random_state=10)\n",
    "df_f['is_outlier'] = iso_forest.fit_predict(df_f[['half_life_seconds']])\n",
    "df_no_outliers = df_f[df_f['is_outlier'] == 1] \n",
    "print(df_no_outliers[['half_life_seconds']].describe())"
   ]
  },
  {
   "cell_type": "code",
   "execution_count": 167,
   "metadata": {},
   "outputs": [
    {
     "data": {
      "image/png": "[encoded data removed]",
      "text/plain": [
       "<Figure size 1000x600 with 1 Axes>"
      ]
     },
     "metadata": {},
     "output_type": "display_data"
    }
   ],
   "source": [
    "plt.figure(figsize=(10, 6))\n",
    "sns.boxplot(x='half_life_seconds', data=df_no_outliers)\n",
    "plt.title('Boxplot de Vida Media (antiviral)')\n",
    "plt.xlabel('Vida media (segundos)')\n",
    "plt.show()"
   ]
  },
  {
   "cell_type": "code",
   "execution_count": 168,
   "metadata": {},
   "outputs": [
    {
     "data": {
      "image/png": "[encoded data removed]",
      "text/plain": [
       "<Figure size 640x480 with 1 Axes>"
      ]
     },
     "metadata": {},
     "output_type": "display_data"
    }
   ],
   "source": [
    "sns.histplot(df_no_outliers['half_life_seconds'], bins=10, color='skyblue', kde=False)\n",
    "\n",
    "plt.xlabel('Vida media (segundos)')\n",
    "plt.ylabel('Frecuencia')\n",
    "plt.title('Histograma de Vida Media (antiviral)')\n",
    "plt.show()"
   ]
  }
 ],
 "metadata": {
  "kernelspec": {
   "display_name": "ML_Class",
   "language": "python",
   "name": "python3"
  },
  "language_info": {
   "codemirror_mode": {
    "name": "ipython",
    "version": 3
   },
   "file_extension": ".py",
   "mimetype": "text/x-python",
   "name": "python",
   "nbconvert_exporter": "python",
   "pygments_lexer": "ipython3",
   "version": "3.12.4"
  }
 },
 "nbformat": 4,
 "nbformat_minor": 2
}
