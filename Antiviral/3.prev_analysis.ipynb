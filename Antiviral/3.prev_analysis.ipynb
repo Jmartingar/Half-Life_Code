{
 "cells": [
  {
   "cell_type": "code",
   "execution_count": 1,
   "metadata": {},
   "outputs": [],
   "source": [
    "import pandas as pd\n",
    "import matplotlib.pyplot as plt\n",
    "import seaborn as sns"
   ]
  },
  {
   "cell_type": "code",
   "execution_count": 2,
   "metadata": {},
   "outputs": [],
   "source": [
    "df_or = pd.read_csv('antiviral_original.csv')\n",
    "df_o=pd.read_csv('antiviral_object.csv')\n",
    "df_f = pd.read_csv('antiviral.csv')"
   ]
  },
  {
   "cell_type": "code",
   "execution_count": 3,
   "metadata": {},
   "outputs": [
    {
     "data": {
      "text/plain": [
       "((5958, 11), (57, 5), (146, 5))"
      ]
     },
     "execution_count": 3,
     "metadata": {},
     "output_type": "execute_result"
    }
   ],
   "source": [
    "df_or.shape, df_o.shape, df_f.shape"
   ]
  },
  {
   "cell_type": "code",
   "execution_count": 4,
   "metadata": {},
   "outputs": [
    {
     "data": {
      "text/html": [
       "<div>\n",
       "<style scoped>\n",
       "    .dataframe tbody tr th:only-of-type {\n",
       "        vertical-align: middle;\n",
       "    }\n",
       "\n",
       "    .dataframe tbody tr th {\n",
       "        vertical-align: top;\n",
       "    }\n",
       "\n",
       "    .dataframe thead th {\n",
       "        text-align: right;\n",
       "    }\n",
       "</style>\n",
       "<table border=\"1\" class=\"dataframe\">\n",
       "  <thead>\n",
       "    <tr style=\"text-align: right;\">\n",
       "      <th></th>\n",
       "      <th>Sequence</th>\n",
       "      <th>Source</th>\n",
       "      <th>Target_Organism</th>\n",
       "      <th>Assay</th>\n",
       "      <th>Linear_Cyclic</th>\n",
       "      <th>N-terminal_Modification</th>\n",
       "      <th>C-terminal_Modification</th>\n",
       "      <th>Other_Modification</th>\n",
       "      <th>Binding_Target</th>\n",
       "      <th>experimental_characteristics</th>\n",
       "      <th>Half_Life</th>\n",
       "    </tr>\n",
       "  </thead>\n",
       "  <tbody>\n",
       "    <tr>\n",
       "      <th>count</th>\n",
       "      <td>5958</td>\n",
       "      <td>5955</td>\n",
       "      <td>5958</td>\n",
       "      <td>5259</td>\n",
       "      <td>5958</td>\n",
       "      <td>5958</td>\n",
       "      <td>5958</td>\n",
       "      <td>912</td>\n",
       "      <td>5955</td>\n",
       "      <td>5958</td>\n",
       "      <td>5838</td>\n",
       "    </tr>\n",
       "    <tr>\n",
       "      <th>unique</th>\n",
       "      <td>1852</td>\n",
       "      <td>185</td>\n",
       "      <td>105</td>\n",
       "      <td>123</td>\n",
       "      <td>4</td>\n",
       "      <td>20</td>\n",
       "      <td>33</td>\n",
       "      <td>164</td>\n",
       "      <td>62</td>\n",
       "      <td>3</td>\n",
       "      <td>22</td>\n",
       "    </tr>\n",
       "    <tr>\n",
       "      <th>top</th>\n",
       "      <td>SLDQINVTFLDLEYEMKKLEEAIKKLEESYIDLKELGSGSG</td>\n",
       "      <td>Synthetic construct</td>\n",
       "      <td>HIV</td>\n",
       "      <td>ELISA</td>\n",
       "      <td>Linear</td>\n",
       "      <td>Free</td>\n",
       "      <td>Free</td>\n",
       "      <td>The 'X' at position 4,8,11,15 indicates S-pent...</td>\n",
       "      <td>Not found</td>\n",
       "      <td>E_coli</td>\n",
       "      <td>&gt;10 hour</td>\n",
       "    </tr>\n",
       "    <tr>\n",
       "      <th>freq</th>\n",
       "      <td>27</td>\n",
       "      <td>2460</td>\n",
       "      <td>2148</td>\n",
       "      <td>393</td>\n",
       "      <td>5466</td>\n",
       "      <td>4521</td>\n",
       "      <td>4011</td>\n",
       "      <td>48</td>\n",
       "      <td>1755</td>\n",
       "      <td>1986</td>\n",
       "      <td>1149</td>\n",
       "    </tr>\n",
       "  </tbody>\n",
       "</table>\n",
       "</div>"
      ],
      "text/plain": [
       "                                         Sequence               Source  \\\n",
       "count                                        5958                 5955   \n",
       "unique                                       1852                  185   \n",
       "top     SLDQINVTFLDLEYEMKKLEEAIKKLEESYIDLKELGSGSG  Synthetic construct   \n",
       "freq                                           27                 2460   \n",
       "\n",
       "       Target_Organism  Assay Linear_Cyclic N-terminal_Modification  \\\n",
       "count             5958   5259          5958                    5958   \n",
       "unique             105    123             4                      20   \n",
       "top                HIV  ELISA        Linear                    Free   \n",
       "freq              2148    393          5466                    4521   \n",
       "\n",
       "       C-terminal_Modification  \\\n",
       "count                     5958   \n",
       "unique                      33   \n",
       "top                       Free   \n",
       "freq                      4011   \n",
       "\n",
       "                                       Other_Modification Binding_Target  \\\n",
       "count                                                 912           5955   \n",
       "unique                                                164             62   \n",
       "top     The 'X' at position 4,8,11,15 indicates S-pent...      Not found   \n",
       "freq                                                   48           1755   \n",
       "\n",
       "       experimental_characteristics Half_Life  \n",
       "count                          5958      5838  \n",
       "unique                            3        22  \n",
       "top                          E_coli  >10 hour  \n",
       "freq                           1986      1149  "
      ]
     },
     "execution_count": 4,
     "metadata": {},
     "output_type": "execute_result"
    }
   ],
   "source": [
    "df_or.describe()"
   ]
  },
  {
   "cell_type": "code",
   "execution_count": 5,
   "metadata": {},
   "outputs": [
    {
     "data": {
      "text/html": [
       "<div>\n",
       "<style scoped>\n",
       "    .dataframe tbody tr th:only-of-type {\n",
       "        vertical-align: middle;\n",
       "    }\n",
       "\n",
       "    .dataframe tbody tr th {\n",
       "        vertical-align: top;\n",
       "    }\n",
       "\n",
       "    .dataframe thead th {\n",
       "        text-align: right;\n",
       "    }\n",
       "</style>\n",
       "<table border=\"1\" class=\"dataframe\">\n",
       "  <thead>\n",
       "    <tr style=\"text-align: right;\">\n",
       "      <th></th>\n",
       "      <th>sequence</th>\n",
       "      <th>half_life</th>\n",
       "      <th>is_mod</th>\n",
       "      <th>modifications</th>\n",
       "      <th>experimental_characteristics</th>\n",
       "    </tr>\n",
       "  </thead>\n",
       "  <tbody>\n",
       "    <tr>\n",
       "      <th>count</th>\n",
       "      <td>57</td>\n",
       "      <td>57</td>\n",
       "      <td>57</td>\n",
       "      <td>14</td>\n",
       "      <td>57</td>\n",
       "    </tr>\n",
       "    <tr>\n",
       "      <th>unique</th>\n",
       "      <td>57</td>\n",
       "      <td>2</td>\n",
       "      <td>2</td>\n",
       "      <td>5</td>\n",
       "      <td>3</td>\n",
       "    </tr>\n",
       "    <tr>\n",
       "      <th>top</th>\n",
       "      <td>AACEVAKNLNESLIDLQELGKYEQYIKW</td>\n",
       "      <td>&gt;20 hour</td>\n",
       "      <td>False</td>\n",
       "      <td>Acetylation, Amidation</td>\n",
       "      <td>Yeast</td>\n",
       "    </tr>\n",
       "    <tr>\n",
       "      <th>freq</th>\n",
       "      <td>1</td>\n",
       "      <td>44</td>\n",
       "      <td>43</td>\n",
       "      <td>8</td>\n",
       "      <td>27</td>\n",
       "    </tr>\n",
       "  </tbody>\n",
       "</table>\n",
       "</div>"
      ],
      "text/plain": [
       "                            sequence half_life is_mod           modifications  \\\n",
       "count                             57        57     57                      14   \n",
       "unique                            57         2      2                       5   \n",
       "top     AACEVAKNLNESLIDLQELGKYEQYIKW  >20 hour  False  Acetylation, Amidation   \n",
       "freq                               1        44     43                       8   \n",
       "\n",
       "       experimental_characteristics  \n",
       "count                            57  \n",
       "unique                            3  \n",
       "top                           Yeast  \n",
       "freq                             27  "
      ]
     },
     "execution_count": 5,
     "metadata": {},
     "output_type": "execute_result"
    }
   ],
   "source": [
    "df_o.describe()"
   ]
  },
  {
   "cell_type": "code",
   "execution_count": 6,
   "metadata": {},
   "outputs": [
    {
     "data": {
      "text/html": [
       "<div>\n",
       "<style scoped>\n",
       "    .dataframe tbody tr th:only-of-type {\n",
       "        vertical-align: middle;\n",
       "    }\n",
       "\n",
       "    .dataframe tbody tr th {\n",
       "        vertical-align: top;\n",
       "    }\n",
       "\n",
       "    .dataframe thead th {\n",
       "        text-align: right;\n",
       "    }\n",
       "</style>\n",
       "<table border=\"1\" class=\"dataframe\">\n",
       "  <thead>\n",
       "    <tr style=\"text-align: right;\">\n",
       "      <th></th>\n",
       "      <th>half_life_seconds</th>\n",
       "    </tr>\n",
       "  </thead>\n",
       "  <tbody>\n",
       "    <tr>\n",
       "      <th>count</th>\n",
       "      <td>146.000000</td>\n",
       "    </tr>\n",
       "    <tr>\n",
       "      <th>mean</th>\n",
       "      <td>4941.780822</td>\n",
       "    </tr>\n",
       "    <tr>\n",
       "      <th>std</th>\n",
       "      <td>31675.110030</td>\n",
       "    </tr>\n",
       "    <tr>\n",
       "      <th>min</th>\n",
       "      <td>120.000000</td>\n",
       "    </tr>\n",
       "    <tr>\n",
       "      <th>25%</th>\n",
       "      <td>120.000000</td>\n",
       "    </tr>\n",
       "    <tr>\n",
       "      <th>50%</th>\n",
       "      <td>120.000000</td>\n",
       "    </tr>\n",
       "    <tr>\n",
       "      <th>75%</th>\n",
       "      <td>120.000000</td>\n",
       "    </tr>\n",
       "    <tr>\n",
       "      <th>max</th>\n",
       "      <td>360000.000000</td>\n",
       "    </tr>\n",
       "  </tbody>\n",
       "</table>\n",
       "</div>"
      ],
      "text/plain": [
       "       half_life_seconds\n",
       "count         146.000000\n",
       "mean         4941.780822\n",
       "std         31675.110030\n",
       "min           120.000000\n",
       "25%           120.000000\n",
       "50%           120.000000\n",
       "75%           120.000000\n",
       "max        360000.000000"
      ]
     },
     "execution_count": 6,
     "metadata": {},
     "output_type": "execute_result"
    }
   ],
   "source": [
    "df_f.describe()"
   ]
  },
  {
   "cell_type": "code",
   "execution_count": 7,
   "metadata": {},
   "outputs": [
    {
     "data": {
      "image/png": "[encoded data removed]",
      "text/plain": [
       "<Figure size 640x480 with 1 Axes>"
      ]
     },
     "metadata": {},
     "output_type": "display_data"
    }
   ],
   "source": [
    "sns.histplot(df_f['half_life_seconds'], bins=10, color='skyblue', kde=False)\n",
    "\n",
    "plt.xlabel('Vida media (segundos)')\n",
    "plt.ylabel('Frecuencia')\n",
    "plt.title('Histograma de Vida Media (PEP_LIFE)')\n",
    "plt.show()"
   ]
  },
  {
   "cell_type": "code",
   "execution_count": 8,
   "metadata": {},
   "outputs": [
    {
     "data": {
      "image/png": "[encoded data removed]",
      "text/plain": [
       "<Figure size 1000x600 with 1 Axes>"
      ]
     },
     "metadata": {},
     "output_type": "display_data"
    }
   ],
   "source": [
    "plt.figure(figsize=(10, 6))\n",
    "sns.boxplot(x='half_life_seconds', data=df_f)\n",
    "plt.title('Boxplot de Vida Media (PEP_LIFE)')\n",
    "plt.xlabel('Vida media (segundos)')\n",
    "plt.show()"
   ]
  },
  {
   "cell_type": "code",
   "execution_count": 9,
   "metadata": {},
   "outputs": [
    {
     "data": {
      "text/plain": [
       "is_mod\n",
       "False    43\n",
       "True     14\n",
       "Name: count, dtype: int64"
      ]
     },
     "execution_count": 9,
     "metadata": {},
     "output_type": "execute_result"
    }
   ],
   "source": [
    "df_o['is_mod'].value_counts()"
   ]
  },
  {
   "cell_type": "code",
   "execution_count": 10,
   "metadata": {},
   "outputs": [
    {
     "data": {
      "text/plain": [
       "is_mod\n",
       "False    103\n",
       "True      43\n",
       "Name: count, dtype: int64"
      ]
     },
     "execution_count": 10,
     "metadata": {},
     "output_type": "execute_result"
    }
   ],
   "source": [
    "df_f['is_mod'].value_counts()"
   ]
  }
 ],
 "metadata": {
  "kernelspec": {
   "display_name": "ML_Class",
   "language": "python",
   "name": "python3"
  },
  "language_info": {
   "codemirror_mode": {
    "name": "ipython",
    "version": 3
   },
   "file_extension": ".py",
   "mimetype": "text/x-python",
   "name": "python",
   "nbconvert_exporter": "python",
   "pygments_lexer": "ipython3",
   "version": "3.12.4"
  }
 },
 "nbformat": 4,
 "nbformat_minor": 2
}
