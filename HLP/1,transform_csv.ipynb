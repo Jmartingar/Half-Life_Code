{
 "cells": [
  {
   "cell_type": "code",
   "execution_count": 11,
   "metadata": {},
   "outputs": [],
   "source": [
    "import pandas as pd"
   ]
  },
  {
   "cell_type": "code",
   "execution_count": 12,
   "metadata": {},
   "outputs": [],
   "source": [
    "df = pd.read_csv('../raw/10mer-peptides.txt', delimiter=\"\\t\")\n",
    "df=df.rename(columns={'## Peptide Sequence(10mer)':'sequence', 'Half-life(Sec)': 'half_life_seconds'})\n",
    "df=df.drop_duplicates(subset='sequence')\n",
    "df['experimental_characteristics'] = 'HLP'\n",
    "df.to_csv('HLP_10.csv', index=False)"
   ]
  },
  {
   "cell_type": "code",
   "execution_count": 13,
   "metadata": {},
   "outputs": [],
   "source": [
    "df = pd.read_csv('../raw/16mer-peptides.txt', delimiter=\"\\t\")\n",
    "df=df.rename(columns={'## Peptide Sequence(16mer)':'sequence', 'Half-life (Sec)': 'half_life_seconds'})\n",
    "df=df.drop_duplicates(subset='sequence')\n",
    "df['experimental_characteristics'] = 'HLP'\n",
    "df.to_csv('HLP_16.csv', index=False)"
   ]
  }
 ],
 "metadata": {
  "kernelspec": {
   "display_name": "ML_Class",
   "language": "python",
   "name": "python3"
  },
  "language_info": {
   "codemirror_mode": {
    "name": "ipython",
    "version": 3
   },
   "file_extension": ".py",
   "mimetype": "text/x-python",
   "name": "python",
   "nbconvert_exporter": "python",
   "pygments_lexer": "ipython3",
   "version": "3.12.5"
  }
 },
 "nbformat": 4,
 "nbformat_minor": 2
}
