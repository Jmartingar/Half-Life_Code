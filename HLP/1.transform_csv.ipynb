{
 "cells": [
  {
   "cell_type": "code",
   "execution_count": 21,
   "metadata": {},
   "outputs": [],
   "source": [
    "import pandas as pd"
   ]
  },
  {
   "cell_type": "code",
   "execution_count": null,
   "metadata": {},
   "outputs": [],
   "source": [
    "def categorize_hl(half_life):\n",
    "    # menor a dos horas\n",
    "    if half_life <= 7200:\n",
    "        return 'Low'\n",
    "    #entre dos horas y cinco horas\n",
    "    elif 7200 < half_life <= 18000:\n",
    "        return 'Medium'\n",
    "    else:\n",
    "        return 'High'"
   ]
  },
  {
   "cell_type": "code",
   "execution_count": 23,
   "metadata": {},
   "outputs": [],
   "source": [
    "df = pd.read_csv('../raw/10mer-peptides.txt', delimiter=\"\\t\")\n",
    "df=df.rename(columns={'## Peptide Sequence(10mer)':'sequence', 'Half-life(Sec)': 'half_life_seconds'})\n",
    "df=df.drop_duplicates(subset='sequence')\n",
    "df['experimental_characteristics'] = 'intestinal proteasa'\n",
    "#df['is_mod']=False\n",
    "df['hl_category'] = df['half_life_seconds'].apply(categorize_hl)\n",
    "df.to_csv('HLP_10.csv', index=False)"
   ]
  },
  {
   "cell_type": "code",
   "execution_count": 24,
   "metadata": {},
   "outputs": [],
   "source": [
    "df2 = pd.read_csv('../raw/16mer-peptides.txt', delimiter=\"\\t\")\n",
    "df2=df2.rename(columns={'## Peptide Sequence(16mer)':'sequence', 'Half-life (Sec)': 'half_life_seconds'})\n",
    "df2=df2.drop_duplicates(subset='sequence')\n",
    "df2['experimental_characteristics'] = 'intestinal proteasa'\n",
    "#df2['is_mod']=False\n",
    "df2['hl_category'] = df2['half_life_seconds'].apply(categorize_hl)\n",
    "df2.to_csv('HLP_16.csv', index=False)"
   ]
  },
  {
   "cell_type": "code",
   "execution_count": 25,
   "metadata": {},
   "outputs": [],
   "source": [
    "df3=pd.concat([df, df2])\n",
    "df3.to_csv('HLP.csv', index=False)"
   ]
  }
 ],
 "metadata": {
  "kernelspec": {
   "display_name": "ML_Class",
   "language": "python",
   "name": "python3"
  },
  "language_info": {
   "codemirror_mode": {
    "name": "ipython",
    "version": 3
   },
   "file_extension": ".py",
   "mimetype": "text/x-python",
   "name": "python",
   "nbconvert_exporter": "python",
   "pygments_lexer": "ipython3",
   "version": "3.12.5"
  }
 },
 "nbformat": 4,
 "nbformat_minor": 2
}
