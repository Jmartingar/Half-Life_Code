{
 "cells": [
  {
   "cell_type": "code",
   "execution_count": 1,
   "metadata": {},
   "outputs": [],
   "source": [
    "import pandas as pd"
   ]
  },
  {
   "cell_type": "code",
   "execution_count": 2,
   "metadata": {},
   "outputs": [],
   "source": [
    "def canon_or_notcanon(sequence):\n",
    "     alphabet = set(\"ACDEFGHIKLMNPQRSTVWY\")\n",
    "     sequence = sequence.strip()\n",
    "     is_canon = True\n",
    "     for res in set(sequence):\n",
    "         if res not in alphabet:\n",
    "             is_canon = False\n",
    "     return is_canon"
   ]
  },
  {
   "cell_type": "code",
   "execution_count": 3,
   "metadata": {},
   "outputs": [],
   "source": [
    "canon= []\n",
    "notcanon= []"
   ]
  },
  {
   "cell_type": "code",
   "execution_count": 4,
   "metadata": {},
   "outputs": [],
   "source": [
    "df = pd.read_csv('PepTherDia.csv')"
   ]
  },
  {
   "cell_type": "code",
   "execution_count": 5,
   "metadata": {},
   "outputs": [
    {
     "data": {
      "text/plain": [
       "is_mod\n",
       "True    40\n",
       "Name: count, dtype: int64"
      ]
     },
     "execution_count": 5,
     "metadata": {},
     "output_type": "execute_result"
    }
   ],
   "source": [
    "df['is_mod'].value_counts()"
   ]
  },
  {
   "cell_type": "code",
   "execution_count": 6,
   "metadata": {},
   "outputs": [],
   "source": [
    "df_mod=df[df['is_mod']==True]\n",
    "df_nomod=df[df['is_mod']==False]"
   ]
  },
  {
   "cell_type": "code",
   "execution_count": 7,
   "metadata": {},
   "outputs": [],
   "source": [
    "df_mod.to_csv('PepTherDia_mod.csv',index=False)\n",
    "df_nomod.to_csv('PepTherDia_nomod.csv',index=False)"
   ]
  },
  {
   "cell_type": "code",
   "execution_count": 8,
   "metadata": {},
   "outputs": [],
   "source": [
    "for sequence in df_nomod[\"sequence\"].unique():\n",
    "    if canon_or_notcanon(sequence):\n",
    "        canon.append(sequence)\n",
    "    else:\n",
    "        notcanon.append(sequence)"
   ]
  },
  {
   "cell_type": "code",
   "execution_count": 9,
   "metadata": {},
   "outputs": [],
   "source": [
    "df_canon = df_nomod[df_nomod[\"sequence\"].isin(canon)]\n",
    "df_notcanon = df_nomod[df_nomod[\"sequence\"].isin(notcanon)]"
   ]
  },
  {
   "cell_type": "code",
   "execution_count": 10,
   "metadata": {},
   "outputs": [],
   "source": [
    "df_canon.to_csv('PepTherDia_nomod_canon.csv',index=False, columns=[\"sequence\",\"half_life_seconds\"])\n",
    "df_notcanon.to_csv('PepTherDia_nomod_notcanon.csv',index=False, columns=[\"sequence\",\"half_life_seconds\"])"
   ]
  }
 ],
 "metadata": {
  "kernelspec": {
   "display_name": "ML_Class",
   "language": "python",
   "name": "python3"
  },
  "language_info": {
   "codemirror_mode": {
    "name": "ipython",
    "version": 3
   },
   "file_extension": ".py",
   "mimetype": "text/x-python",
   "name": "python",
   "nbconvert_exporter": "python",
   "pygments_lexer": "ipython3",
   "version": "3.12.4"
  }
 },
 "nbformat": 4,
 "nbformat_minor": 2
}
