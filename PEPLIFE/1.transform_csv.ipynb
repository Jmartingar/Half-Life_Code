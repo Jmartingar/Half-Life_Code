{
 "cells": [
  {
   "cell_type": "code",
   "execution_count": 10,
   "metadata": {},
   "outputs": [],
   "source": [
    "import pandas as pd\n",
    "import ast\n",
    "import re"
   ]
  },
  {
   "cell_type": "code",
   "execution_count": 11,
   "metadata": {},
   "outputs": [],
   "source": [
    "with open('../raw/PEP_LIFE.data', 'r') as f:\n",
    "    content = f.read()"
   ]
  },
  {
   "cell_type": "code",
   "execution_count": 12,
   "metadata": {},
   "outputs": [],
   "source": [
    "data = ast.literal_eval(content)"
   ]
  },
  {
   "cell_type": "code",
   "execution_count": 13,
   "metadata": {},
   "outputs": [],
   "source": [
    "rows = []\n",
    "for key, value in data.items():\n",
    "    sequence, modifications = key\n",
    "    half_life_data = value['half_life_data']\n",
    "    references = value['references']\n",
    "    url_sources = value['url_sources']\n",
    "    \n",
    "    # Extraer datos de cada entrada en half_life_data\n",
    "    for entry, url in half_life_data:\n",
    "        row = {\n",
    "            'Sequence': sequence,\n",
    "            'Modifications': modifications,\n",
    "            'Test Sample': entry['test_sample'],\n",
    "            'Vivo/Vitro': entry['vivo_vitro'],\n",
    "            'Half Life (seconds)': entry['half_life_seconds'],\n",
    "            'Reference URL': references[0] if references else None,\n",
    "            'Source URL': url,\n",
    "            'Other Sources': ', '.join(url_sources)\n",
    "        }\n",
    "        rows.append(row)\n"
   ]
  },
  {
   "cell_type": "code",
   "execution_count": 14,
   "metadata": {},
   "outputs": [],
   "source": [
    "df = pd.DataFrame(data)"
   ]
  },
  {
   "cell_type": "code",
   "execution_count": 16,
   "metadata": {},
   "outputs": [],
   "source": [
    "df=df.transpose()"
   ]
  },
  {
   "cell_type": "code",
   "execution_count": 18,
   "metadata": {},
   "outputs": [],
   "source": [
    "df.to_csv('PEP_LIFE_original.csv')"
   ]
  }
 ],
 "metadata": {
  "kernelspec": {
   "display_name": "ML_Class",
   "language": "python",
   "name": "python3"
  },
  "language_info": {
   "codemirror_mode": {
    "name": "ipython",
    "version": 3
   },
   "file_extension": ".py",
   "mimetype": "text/x-python",
   "name": "python",
   "nbconvert_exporter": "python",
   "pygments_lexer": "ipython3",
   "version": "3.12.5"
  }
 },
 "nbformat": 4,
 "nbformat_minor": 2
}
